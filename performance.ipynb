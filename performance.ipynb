{
 "cells": [
  {
   "cell_type": "markdown",
   "id": "74610fcb",
   "metadata": {},
   "source": [
    "***Student Performance Indicator***"
   ]
  },
  {
   "cell_type": "code",
   "execution_count": null,
   "id": "ae077343",
   "metadata": {
    "vscode": {
     "languageId": "plaintext"
    }
   },
   "outputs": [],
   "source": []
  }
 ],
 "metadata": {
  "language_info": {
   "name": "python"
  }
 },
 "nbformat": 4,
 "nbformat_minor": 5
}
